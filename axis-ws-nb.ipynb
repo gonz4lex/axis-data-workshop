{
 "cells": [
  {
   "cell_type": "markdown",
   "metadata": {},
   "source": [
    "# Data Manipulation with Python\n",
    "\n",
    "Python is a great language for data analysis. There are several libraries for this purpose, as well as many more maintained by an open source community for topics such data science, machine learning and artificial intelligence.\n",
    "\n",
    "Let us start by importing these libraries and setting up some options."
   ]
  },
  {
   "cell_type": "markdown",
   "metadata": {},
   "source": [
    "## Loading data and libraries"
   ]
  },
  {
   "cell_type": "code",
   "execution_count": 16,
   "metadata": {},
   "outputs": [],
   "source": [
    "import pandas as pd\n",
    "import numpy as np\n",
    "import seaborn as sns\n",
    "import matplotlib.pyplot as plt\n",
    "import json\n",
    "import random\n",
    "%matplotlib inline\n",
    "\n",
    "pd.options.mode.chained_assignment = None"
   ]
  },
  {
   "cell_type": "markdown",
   "metadata": {},
   "source": [
    "Next, we will load the necessary data into pandas dataframes."
   ]
  },
  {
   "cell_type": "code",
   "execution_count": 17,
   "metadata": {},
   "outputs": [
    {
     "data": {
      "text/html": [
       "<div>\n",
       "<style scoped>\n",
       "    .dataframe tbody tr th:only-of-type {\n",
       "        vertical-align: middle;\n",
       "    }\n",
       "\n",
       "    .dataframe tbody tr th {\n",
       "        vertical-align: top;\n",
       "    }\n",
       "\n",
       "    .dataframe thead th {\n",
       "        text-align: right;\n",
       "    }\n",
       "</style>\n",
       "<table border=\"1\" class=\"dataframe\">\n",
       "  <thead>\n",
       "    <tr style=\"text-align: right;\">\n",
       "      <th></th>\n",
       "      <th>name</th>\n",
       "      <th>characters</th>\n",
       "    </tr>\n",
       "  </thead>\n",
       "  <tbody>\n",
       "    <tr>\n",
       "      <th>42</th>\n",
       "      <td>Night's Watch</td>\n",
       "      <td>Pypar</td>\n",
       "    </tr>\n",
       "    <tr>\n",
       "      <th>49</th>\n",
       "      <td>Dothraki</td>\n",
       "      <td>Khal Drogo</td>\n",
       "    </tr>\n",
       "    <tr>\n",
       "      <th>38</th>\n",
       "      <td>Night's Watch</td>\n",
       "      <td>Karl Tanner</td>\n",
       "    </tr>\n",
       "    <tr>\n",
       "      <th>77</th>\n",
       "      <td>Frey</td>\n",
       "      <td>Black Walder Rivers</td>\n",
       "    </tr>\n",
       "    <tr>\n",
       "      <th>29</th>\n",
       "      <td>Lannister</td>\n",
       "      <td>Jaime Lannister</td>\n",
       "    </tr>\n",
       "    <tr>\n",
       "      <th>10</th>\n",
       "      <td>Stark</td>\n",
       "      <td>Rickon Stark</td>\n",
       "    </tr>\n",
       "    <tr>\n",
       "      <th>23</th>\n",
       "      <td>Baratheon</td>\n",
       "      <td>Robert Baratheon</td>\n",
       "    </tr>\n",
       "    <tr>\n",
       "      <th>71</th>\n",
       "      <td>Martell</td>\n",
       "      <td>Ellaria Sand</td>\n",
       "    </tr>\n",
       "    <tr>\n",
       "      <th>9</th>\n",
       "      <td>Stark</td>\n",
       "      <td>Nymeria</td>\n",
       "    </tr>\n",
       "    <tr>\n",
       "      <th>86</th>\n",
       "      <td>White Walkers</td>\n",
       "      <td>Wun Wun Wight</td>\n",
       "    </tr>\n",
       "  </tbody>\n",
       "</table>\n",
       "</div>"
      ],
      "text/plain": [
       "             name           characters\n",
       "42  Night's Watch                Pypar\n",
       "49       Dothraki           Khal Drogo\n",
       "38  Night's Watch          Karl Tanner\n",
       "77           Frey  Black Walder Rivers\n",
       "29      Lannister      Jaime Lannister\n",
       "10          Stark         Rickon Stark\n",
       "23      Baratheon     Robert Baratheon\n",
       "71        Martell         Ellaria Sand\n",
       "9           Stark              Nymeria\n",
       "86  White Walkers        Wun Wun Wight"
      ]
     },
     "execution_count": 17,
     "metadata": {},
     "output_type": "execute_result"
    }
   ],
   "source": [
    "with open('data/thrones.json') as f:\n",
    "    data = json.load(f)\n",
    "    \n",
    "HOUSE_NUMBER = len(data['house'])\n",
    "\n",
    "chars = pd.DataFrame()\n",
    "\n",
    "for i in range(HOUSE_NUMBER):\n",
    "    tmp = pd.DataFrame.from_dict(data['house'][i])\n",
    "    chars = pd.concat([chars, tmp], ignore_index = True)\n",
    "    \n",
    "chars.sample(10)\n"
   ]
  },
  {
   "cell_type": "code",
   "execution_count": 18,
   "metadata": {},
   "outputs": [
    {
     "data": {
      "text/html": [
       "<div>\n",
       "<style scoped>\n",
       "    .dataframe tbody tr th:only-of-type {\n",
       "        vertical-align: middle;\n",
       "    }\n",
       "\n",
       "    .dataframe tbody tr th {\n",
       "        vertical-align: top;\n",
       "    }\n",
       "\n",
       "    .dataframe thead th {\n",
       "        text-align: right;\n",
       "    }\n",
       "</style>\n",
       "<table border=\"1\" class=\"dataframe\">\n",
       "  <thead>\n",
       "    <tr style=\"text-align: right;\">\n",
       "      <th></th>\n",
       "      <th>gender</th>\n",
       "      <th>characters</th>\n",
       "    </tr>\n",
       "  </thead>\n",
       "  <tbody>\n",
       "    <tr>\n",
       "      <th>0</th>\n",
       "      <td>male</td>\n",
       "      <td>Alliser Thorne</td>\n",
       "    </tr>\n",
       "    <tr>\n",
       "      <th>1</th>\n",
       "      <td>male</td>\n",
       "      <td>Baby Sam</td>\n",
       "    </tr>\n",
       "    <tr>\n",
       "      <th>2</th>\n",
       "      <td>male</td>\n",
       "      <td>Balon Greyjoy</td>\n",
       "    </tr>\n",
       "    <tr>\n",
       "      <th>3</th>\n",
       "      <td>male</td>\n",
       "      <td>Barristan Selmy</td>\n",
       "    </tr>\n",
       "    <tr>\n",
       "      <th>4</th>\n",
       "      <td>male</td>\n",
       "      <td>Benjen Stark</td>\n",
       "    </tr>\n",
       "  </tbody>\n",
       "</table>\n",
       "</div>"
      ],
      "text/plain": [
       "  gender       characters\n",
       "0   male   Alliser Thorne\n",
       "1   male         Baby Sam\n",
       "2   male    Balon Greyjoy\n",
       "3   male  Barristan Selmy\n",
       "4   male     Benjen Stark"
      ]
     },
     "execution_count": 18,
     "metadata": {},
     "output_type": "execute_result"
    }
   ],
   "source": [
    "with open('data/gender.json') as f:\n",
    "    data = json.load(f)\n",
    "\n",
    "gender = pd.DataFrame()\n",
    "\n",
    "for i in range(2):\n",
    "    tmp = pd.DataFrame.from_dict(data['gender'][i])\n",
    "    gender = pd.concat([gender, tmp], ignore_index = True)\n",
    "    \n",
    "gender.head()\n"
   ]
  },
  {
   "cell_type": "markdown",
   "metadata": {},
   "source": [
    "## Table joins and manipulation"
   ]
  },
  {
   "cell_type": "markdown",
   "metadata": {},
   "source": [
    "After creating two separate objects from different data files, let's perform a join operation to create a richer dataset."
   ]
  },
  {
   "cell_type": "code",
   "execution_count": 19,
   "metadata": {},
   "outputs": [
    {
     "data": {
      "text/html": [
       "<div>\n",
       "<style scoped>\n",
       "    .dataframe tbody tr th:only-of-type {\n",
       "        vertical-align: middle;\n",
       "    }\n",
       "\n",
       "    .dataframe tbody tr th {\n",
       "        vertical-align: top;\n",
       "    }\n",
       "\n",
       "    .dataframe thead th {\n",
       "        text-align: right;\n",
       "    }\n",
       "</style>\n",
       "<table border=\"1\" class=\"dataframe\">\n",
       "  <thead>\n",
       "    <tr style=\"text-align: right;\">\n",
       "      <th></th>\n",
       "      <th>house</th>\n",
       "      <th>name</th>\n",
       "      <th>gender</th>\n",
       "    </tr>\n",
       "  </thead>\n",
       "  <tbody>\n",
       "    <tr>\n",
       "      <th>0</th>\n",
       "      <td>Stark</td>\n",
       "      <td>Arya Stark</td>\n",
       "      <td>female</td>\n",
       "    </tr>\n",
       "    <tr>\n",
       "      <th>1</th>\n",
       "      <td>Stark</td>\n",
       "      <td>Benjen Stark</td>\n",
       "      <td>male</td>\n",
       "    </tr>\n",
       "    <tr>\n",
       "      <th>2</th>\n",
       "      <td>Stark</td>\n",
       "      <td>Bran Stark</td>\n",
       "      <td>male</td>\n",
       "    </tr>\n",
       "    <tr>\n",
       "      <th>3</th>\n",
       "      <td>Stark</td>\n",
       "      <td>Catelyn Stark</td>\n",
       "      <td>female</td>\n",
       "    </tr>\n",
       "    <tr>\n",
       "      <th>4</th>\n",
       "      <td>Stark</td>\n",
       "      <td>Eddard Stark</td>\n",
       "      <td>male</td>\n",
       "    </tr>\n",
       "  </tbody>\n",
       "</table>\n",
       "</div>"
      ],
      "text/plain": [
       "   house           name  gender\n",
       "0  Stark     Arya Stark  female\n",
       "1  Stark   Benjen Stark    male\n",
       "2  Stark     Bran Stark    male\n",
       "3  Stark  Catelyn Stark  female\n",
       "4  Stark   Eddard Stark    male"
      ]
     },
     "execution_count": 19,
     "metadata": {},
     "output_type": "execute_result"
    }
   ],
   "source": [
    "df = chars.merge(gender,\n",
    "                  left_on = 'characters',\n",
    "                  right_on = 'characters',\n",
    "                  how = 'outer')\n",
    "\n",
    "df = df.rename(index = str,\n",
    "                     columns = {\n",
    "                        'name': 'house',\n",
    "                        'characters': 'name'\n",
    "             })\n",
    "\n",
    "df.head()"
   ]
  },
  {
   "cell_type": "markdown",
   "metadata": {},
   "source": [
    "Now, lets filter for the top five houses with more characters and see which ones remain."
   ]
  },
  {
   "cell_type": "code",
   "execution_count": 20,
   "metadata": {},
   "outputs": [
    {
     "data": {
      "text/plain": [
       "['Baratheon', 'Martell', \"Night's Watch\", 'Stark', 'Wildling']"
      ]
     },
     "execution_count": 20,
     "metadata": {},
     "output_type": "execute_result"
    }
   ],
   "source": [
    "top_houses = df.groupby('house').count().sort_values(by = 'name',\n",
    "                                                     ascending = False).head()\n",
    "                                                     \n",
    "\n",
    "df = df[df['house'].isin(\n",
    "                        list(top_houses.index)\n",
    "                        )\n",
    "                    ]\n",
    "\n",
    "houses = list(\n",
    "    np.unique(df['house'])\n",
    ")\n",
    "\n",
    "houses"
   ]
  },
  {
   "cell_type": "markdown",
   "metadata": {},
   "source": [
    "However, this dataset is still quite boring and bland, so let's engineer some data and find out how to use the `random` module in Python. In particular, the `.seed()` method is essential to create reproducible results."
   ]
  },
  {
   "cell_type": "code",
   "execution_count": 6,
   "metadata": {},
   "outputs": [
    {
     "data": {
      "text/html": [
       "<div>\n",
       "<style scoped>\n",
       "    .dataframe tbody tr th:only-of-type {\n",
       "        vertical-align: middle;\n",
       "    }\n",
       "\n",
       "    .dataframe tbody tr th {\n",
       "        vertical-align: top;\n",
       "    }\n",
       "\n",
       "    .dataframe thead th {\n",
       "        text-align: right;\n",
       "    }\n",
       "</style>\n",
       "<table border=\"1\" class=\"dataframe\">\n",
       "  <thead>\n",
       "    <tr style=\"text-align: right;\">\n",
       "      <th></th>\n",
       "      <th>gold</th>\n",
       "      <th>weapons</th>\n",
       "      <th>gold_multiplier</th>\n",
       "      <th>weapons_multiplier</th>\n",
       "    </tr>\n",
       "  </thead>\n",
       "  <tbody>\n",
       "    <tr>\n",
       "      <th>count</th>\n",
       "      <td>54.000000</td>\n",
       "      <td>54.000000</td>\n",
       "      <td>54.000000</td>\n",
       "      <td>54.000000</td>\n",
       "    </tr>\n",
       "    <tr>\n",
       "      <th>mean</th>\n",
       "      <td>775.143542</td>\n",
       "      <td>379.704098</td>\n",
       "      <td>4.025409</td>\n",
       "      <td>3.833565</td>\n",
       "    </tr>\n",
       "    <tr>\n",
       "      <th>std</th>\n",
       "      <td>603.121287</td>\n",
       "      <td>237.266773</td>\n",
       "      <td>2.841246</td>\n",
       "      <td>2.332197</td>\n",
       "    </tr>\n",
       "    <tr>\n",
       "      <th>min</th>\n",
       "      <td>192.373603</td>\n",
       "      <td>131.026475</td>\n",
       "      <td>1.608858</td>\n",
       "      <td>1.861520</td>\n",
       "    </tr>\n",
       "    <tr>\n",
       "      <th>25%</th>\n",
       "      <td>335.145714</td>\n",
       "      <td>206.155575</td>\n",
       "      <td>1.608858</td>\n",
       "      <td>2.125753</td>\n",
       "    </tr>\n",
       "    <tr>\n",
       "      <th>50%</th>\n",
       "      <td>479.125541</td>\n",
       "      <td>287.633198</td>\n",
       "      <td>1.967668</td>\n",
       "      <td>2.705906</td>\n",
       "    </tr>\n",
       "    <tr>\n",
       "      <th>75%</th>\n",
       "      <td>1180.534147</td>\n",
       "      <td>521.802530</td>\n",
       "      <td>7.170161</td>\n",
       "      <td>4.593902</td>\n",
       "    </tr>\n",
       "    <tr>\n",
       "      <th>max</th>\n",
       "      <td>2429.722650</td>\n",
       "      <td>964.026914</td>\n",
       "      <td>8.392334</td>\n",
       "      <td>8.091569</td>\n",
       "    </tr>\n",
       "  </tbody>\n",
       "</table>\n",
       "</div>"
      ],
      "text/plain": [
       "              gold     weapons  gold_multiplier  weapons_multiplier\n",
       "count    54.000000   54.000000        54.000000           54.000000\n",
       "mean    775.143542  379.704098         4.025409            3.833565\n",
       "std     603.121287  237.266773         2.841246            2.332197\n",
       "min     192.373603  131.026475         1.608858            1.861520\n",
       "25%     335.145714  206.155575         1.608858            2.125753\n",
       "50%     479.125541  287.633198         1.967668            2.705906\n",
       "75%    1180.534147  521.802530         7.170161            4.593902\n",
       "max    2429.722650  964.026914         8.392334            8.091569"
      ]
     },
     "execution_count": 6,
     "metadata": {},
     "output_type": "execute_result"
    }
   ],
   "source": [
    "df['gold'] = np.nan\n",
    "df['weapons'] = np.nan\n",
    "\n",
    "random.seed(2018)\n",
    "\n",
    "dts = pd.DataFrame()\n",
    "\n",
    "for i in top_houses.index:\n",
    "    tmp = df[df['house'] == i]\n",
    "    tmp['gold_multiplier'] = abs(random.gauss(3, 6))\n",
    "    tmp['weapons_multiplier'] = abs(random.gauss(3, 6))\n",
    "    dts = pd.concat([dts, tmp], ignore_index = True)\n",
    "\n",
    "for i in range(len(dts)):\n",
    "    dts['gold'][i] = random.gauss(200, 50) * dts['gold_multiplier'][i]\n",
    "    dts['weapons'][i] = random.gauss(100, 20) * dts['weapons_multiplier'][i]\n",
    "    \n",
    "dts.describe()\n"
   ]
  },
  {
   "cell_type": "markdown",
   "metadata": {},
   "source": [
    "We could have used `random.randint()` or `random.randrange()`, but a normal distribution should fit this example well.\n",
    "\n",
    "## Data inspection\n",
    "\n",
    "Pandas dataframes provide several methods that help assess the characteristics of your dataset."
   ]
  },
  {
   "cell_type": "code",
   "execution_count": 21,
   "metadata": {},
   "outputs": [
    {
     "data": {
      "text/plain": [
       "(54, 7)"
      ]
     },
     "execution_count": 21,
     "metadata": {},
     "output_type": "execute_result"
    }
   ],
   "source": [
    "dts.shape"
   ]
  },
  {
   "cell_type": "code",
   "execution_count": 22,
   "metadata": {},
   "outputs": [
    {
     "data": {
      "text/plain": [
       "378"
      ]
     },
     "execution_count": 22,
     "metadata": {},
     "output_type": "execute_result"
    }
   ],
   "source": [
    "dts.size"
   ]
  },
  {
   "cell_type": "code",
   "execution_count": 23,
   "metadata": {},
   "outputs": [
    {
     "data": {
      "text/html": [
       "<div>\n",
       "<style scoped>\n",
       "    .dataframe tbody tr th:only-of-type {\n",
       "        vertical-align: middle;\n",
       "    }\n",
       "\n",
       "    .dataframe tbody tr th {\n",
       "        vertical-align: top;\n",
       "    }\n",
       "\n",
       "    .dataframe thead th {\n",
       "        text-align: right;\n",
       "    }\n",
       "</style>\n",
       "<table border=\"1\" class=\"dataframe\">\n",
       "  <thead>\n",
       "    <tr style=\"text-align: right;\">\n",
       "      <th></th>\n",
       "      <th>gold</th>\n",
       "      <th>weapons</th>\n",
       "      <th>gold_multiplier</th>\n",
       "      <th>weapons_multiplier</th>\n",
       "    </tr>\n",
       "  </thead>\n",
       "  <tbody>\n",
       "    <tr>\n",
       "      <th>count</th>\n",
       "      <td>54.000000</td>\n",
       "      <td>54.000000</td>\n",
       "      <td>54.000000</td>\n",
       "      <td>54.000000</td>\n",
       "    </tr>\n",
       "    <tr>\n",
       "      <th>mean</th>\n",
       "      <td>775.143542</td>\n",
       "      <td>379.704098</td>\n",
       "      <td>4.025409</td>\n",
       "      <td>3.833565</td>\n",
       "    </tr>\n",
       "    <tr>\n",
       "      <th>std</th>\n",
       "      <td>603.121287</td>\n",
       "      <td>237.266773</td>\n",
       "      <td>2.841246</td>\n",
       "      <td>2.332197</td>\n",
       "    </tr>\n",
       "    <tr>\n",
       "      <th>min</th>\n",
       "      <td>192.373603</td>\n",
       "      <td>131.026475</td>\n",
       "      <td>1.608858</td>\n",
       "      <td>1.861520</td>\n",
       "    </tr>\n",
       "    <tr>\n",
       "      <th>25%</th>\n",
       "      <td>335.145714</td>\n",
       "      <td>206.155575</td>\n",
       "      <td>1.608858</td>\n",
       "      <td>2.125753</td>\n",
       "    </tr>\n",
       "    <tr>\n",
       "      <th>50%</th>\n",
       "      <td>479.125541</td>\n",
       "      <td>287.633198</td>\n",
       "      <td>1.967668</td>\n",
       "      <td>2.705906</td>\n",
       "    </tr>\n",
       "    <tr>\n",
       "      <th>75%</th>\n",
       "      <td>1180.534147</td>\n",
       "      <td>521.802530</td>\n",
       "      <td>7.170161</td>\n",
       "      <td>4.593902</td>\n",
       "    </tr>\n",
       "    <tr>\n",
       "      <th>max</th>\n",
       "      <td>2429.722650</td>\n",
       "      <td>964.026914</td>\n",
       "      <td>8.392334</td>\n",
       "      <td>8.091569</td>\n",
       "    </tr>\n",
       "  </tbody>\n",
       "</table>\n",
       "</div>"
      ],
      "text/plain": [
       "              gold     weapons  gold_multiplier  weapons_multiplier\n",
       "count    54.000000   54.000000        54.000000           54.000000\n",
       "mean    775.143542  379.704098         4.025409            3.833565\n",
       "std     603.121287  237.266773         2.841246            2.332197\n",
       "min     192.373603  131.026475         1.608858            1.861520\n",
       "25%     335.145714  206.155575         1.608858            2.125753\n",
       "50%     479.125541  287.633198         1.967668            2.705906\n",
       "75%    1180.534147  521.802530         7.170161            4.593902\n",
       "max    2429.722650  964.026914         8.392334            8.091569"
      ]
     },
     "execution_count": 23,
     "metadata": {},
     "output_type": "execute_result"
    }
   ],
   "source": [
    "dts.describe()"
   ]
  },
  {
   "cell_type": "markdown",
   "metadata": {},
   "source": [
    "There are also several statistics-oriented features, such as calculating the Pearson correlation."
   ]
  },
  {
   "cell_type": "code",
   "execution_count": 25,
   "metadata": {},
   "outputs": [
    {
     "data": {
      "text/html": [
       "<div>\n",
       "<style scoped>\n",
       "    .dataframe tbody tr th:only-of-type {\n",
       "        vertical-align: middle;\n",
       "    }\n",
       "\n",
       "    .dataframe tbody tr th {\n",
       "        vertical-align: top;\n",
       "    }\n",
       "\n",
       "    .dataframe thead th {\n",
       "        text-align: right;\n",
       "    }\n",
       "</style>\n",
       "<table border=\"1\" class=\"dataframe\">\n",
       "  <thead>\n",
       "    <tr style=\"text-align: right;\">\n",
       "      <th></th>\n",
       "      <th>gold</th>\n",
       "      <th>weapons</th>\n",
       "      <th>gold_multiplier</th>\n",
       "      <th>weapons_multiplier</th>\n",
       "    </tr>\n",
       "  </thead>\n",
       "  <tbody>\n",
       "    <tr>\n",
       "      <th>gold</th>\n",
       "      <td>1.000000</td>\n",
       "      <td>0.568156</td>\n",
       "      <td>0.904188</td>\n",
       "      <td>0.595200</td>\n",
       "    </tr>\n",
       "    <tr>\n",
       "      <th>weapons</th>\n",
       "      <td>0.568156</td>\n",
       "      <td>1.000000</td>\n",
       "      <td>0.610304</td>\n",
       "      <td>0.927968</td>\n",
       "    </tr>\n",
       "    <tr>\n",
       "      <th>gold_multiplier</th>\n",
       "      <td>0.904188</td>\n",
       "      <td>0.610304</td>\n",
       "      <td>1.000000</td>\n",
       "      <td>0.690004</td>\n",
       "    </tr>\n",
       "    <tr>\n",
       "      <th>weapons_multiplier</th>\n",
       "      <td>0.595200</td>\n",
       "      <td>0.927968</td>\n",
       "      <td>0.690004</td>\n",
       "      <td>1.000000</td>\n",
       "    </tr>\n",
       "  </tbody>\n",
       "</table>\n",
       "</div>"
      ],
      "text/plain": [
       "                        gold   weapons  gold_multiplier  weapons_multiplier\n",
       "gold                1.000000  0.568156         0.904188            0.595200\n",
       "weapons             0.568156  1.000000         0.610304            0.927968\n",
       "gold_multiplier     0.904188  0.610304         1.000000            0.690004\n",
       "weapons_multiplier  0.595200  0.927968         0.690004            1.000000"
      ]
     },
     "execution_count": 25,
     "metadata": {},
     "output_type": "execute_result"
    }
   ],
   "source": [
    "corr = dts.corr()\n",
    "corr"
   ]
  },
  {
   "cell_type": "markdown",
   "metadata": {},
   "source": [
    "This doesn't look great, so let's make some interesting representations of the data!\n",
    "\n",
    "## Data visualization\n",
    "\n",
    "There are several plotting libraries in Python, such as matplotlib, seaborn or chartify. It's helpful to leverage all of their potential to create engaging visualizations.\n",
    "\n",
    "Thus, correlations are best analyzed as color heatmaps:"
   ]
  },
  {
   "cell_type": "code",
   "execution_count": 35,
   "metadata": {},
   "outputs": [
    {
     "data": {
      "image/png": "[encoded data removed]",
      "text/plain": [
       "<Figure size 720x720 with 2 Axes>"
      ]
     },
     "metadata": {
      "needs_background": "light"
     },
     "output_type": "display_data"
    }
   ],
   "source": [
    "fig, ax = plt.subplots(figsize = (10, 10))\n",
    "\n",
    "colormap = sns.diverging_palette(220, 10, as_cmap = True)\n",
    "\n",
    "\n",
    "sns.heatmap(corr, cmap = colormap, annot = True)\n",
    "\n",
    "plt.xticks(range(len(corr.columns)), corr.columns);\n",
    "plt.yticks(range(len(corr.columns)), corr.columns)\n",
    "\n",
    "plt.show()"
   ]
  },
  {
   "cell_type": "markdown",
   "metadata": {},
   "source": [
    "Bar or column charts are also quite easy to make with just one line of code."
   ]
  },
  {
   "cell_type": "code",
   "execution_count": 39,
   "metadata": {},
   "outputs": [
    {
     "data": {
      "text/plain": [
       "<BarContainer object of 54 artists>"
      ]
     },
     "execution_count": 39,
     "metadata": {},
     "output_type": "execute_result"
    },
    {
     "data": {
      "image/png": "[encoded data removed]",
      "text/plain": [
       "<Figure size 432x288 with 1 Axes>"
      ]
     },
     "metadata": {
      "needs_background": "light"
     },
     "output_type": "display_data"
    }
   ],
   "source": [
    "plt.bar(dts['gender'], height = dts['gold'])"
   ]
  },
  {
   "cell_type": "markdown",
   "metadata": {},
   "source": [
    "With some experience, creating beautiful advanced charts is quite straightforward:"
   ]
  },
  {
   "cell_type": "code",
   "execution_count": 12,
   "metadata": {},
   "outputs": [
    {
     "data": {
      "text/plain": [
       "<matplotlib.axes._subplots.AxesSubplot at 0x13807610>"
      ]
     },
     "execution_count": 12,
     "metadata": {},
     "output_type": "execute_result"
    },
    {
     "data": {
      "image/png": "[encoded data removed]",
      "text/plain": [
       "<Figure size 432x288 with 1 Axes>"
      ]
     },
     "metadata": {
      "needs_background": "light"
     },
     "output_type": "display_data"
    }
   ],
   "source": [
    "sns.distplot(dts['gold'], hist = True, kde = True, \n",
    "             bins = 10, color = 'darkblue', \n",
    "             hist_kws = {'edgecolor':'black'},\n",
    "             kde_kws = {'linewidth': 4})"
   ]
  },
  {
   "cell_type": "code",
   "execution_count": 48,
   "metadata": {},
   "outputs": [
    {
     "data": {
      "text/plain": [
       "Text(39.50027777777778, 0.5, 'Gold amount')"
      ]
     },
     "execution_count": 48,
     "metadata": {},
     "output_type": "execute_result"
    },
    {
     "data": {
      "image/png": "[encoded data removed]",
      "text/plain": [
       "<Figure size 286x180 with 1 Axes>"
      ]
     },
     "metadata": {
      "needs_background": "light"
     },
     "output_type": "display_data"
    }
   ],
   "source": [
    "sns.pairplot(x_vars = 'weapons', \n",
    "             y_vars = 'gold', \n",
    "             data = dts, \n",
    "             hue = \"house\"\n",
    ")\n",
    "\n",
    "plt.title('Scatter plot')\n",
    "plt.xlabel('Weapons amount')\n",
    "plt.ylabel('Gold amount')"
   ]
  },
  {
   "cell_type": "code",
   "execution_count": 43,
   "metadata": {},
   "outputs": [
    {
     "data": {
      "text/plain": [
       "Text(0, 0.5, 'Density')"
      ]
     },
     "execution_count": 43,
     "metadata": {},
     "output_type": "execute_result"
    },
    {
     "data": {
      "image/png": "[encoded data removed]",
      "text/plain": [
       "<Figure size 432x288 with 1 Axes>"
      ]
     },
     "metadata": {
      "needs_background": "light"
     },
     "output_type": "display_data"
    }
   ],
   "source": [
    "for house in houses:\n",
    "    subset = dts[dts['house'] == house]\n",
    "    \n",
    "    sns.distplot(subset['gold'], hist = False, kde = True,\n",
    "                 kde_kws = {'linewidth': 2},\n",
    "                 label = house)\n",
    "    \n",
    "\n",
    "plt.legend(prop = {'size': 16}, title = 'House')\n",
    "plt.title('Density Plot with Multiple Houses')\n",
    "plt.xlabel('Gold amount')\n",
    "plt.ylabel('Density')"
   ]
  },
  {
   "cell_type": "code",
   "execution_count": 44,
   "metadata": {},
   "outputs": [
    {
     "data": {
      "text/plain": [
       "Text(0, 0.5, 'Density')"
      ]
     },
     "execution_count": 44,
     "metadata": {},
     "output_type": "execute_result"
    },
    {
     "data": {
      "image/png": "[encoded data removed]",
      "text/plain": [
       "<Figure size 432x288 with 1 Axes>"
      ]
     },
     "metadata": {
      "needs_background": "light"
     },
     "output_type": "display_data"
    }
   ],
   "source": [
    "for gender in list(np.unique(dts['gender'])):\n",
    "    subset = dts[dts['gender'] == gender]\n",
    "\n",
    "    sns.distplot(subset['weapons'], hist = False, kde = True,\n",
    "                 kde_kws = {'shade': True, 'linewidth': 3},\n",
    "                 label = gender)\n",
    "    \n",
    "\n",
    "plt.legend(prop = {'size': 16}, title = 'Gender')\n",
    "plt.title('Weapons density by gender')\n",
    "plt.xlabel('Weapons amount')\n",
    "plt.ylabel('Density')"
   ]
  }
 ],
 "metadata": {
  "kernelspec": {
   "display_name": "Python 3",
   "language": "python",
   "name": "python3"
  },
  "language_info": {
   "codemirror_mode": {
    "name": "ipython",
    "version": 3
   },
   "file_extension": ".py",
   "mimetype": "text/x-python",
   "name": "python",
   "nbconvert_exporter": "python",
   "pygments_lexer": "ipython3",
   "version": "3.6.0"
  }
 },
 "nbformat": 4,
 "nbformat_minor": 2
}
